{
 "cells": [
  {
   "cell_type": "markdown",
   "metadata": {},
   "source": [
    "Exploring the SDSS data we downloaded."
   ]
  },
  {
   "cell_type": "code",
   "execution_count": 16,
   "metadata": {},
   "outputs": [],
   "source": [
    "import numpy as np\n",
    "from astropy.io import fits\n",
    "import os, sys\n",
    "from matplotlib import pyplot as plt"
   ]
  },
  {
   "cell_type": "code",
   "execution_count": 2,
   "metadata": {},
   "outputs": [
    {
     "data": {
      "text/plain": [
       "['galaxy_DR12v5_CMASS_North.fits',\n",
       " 'galaxy_DR12v5_CMASS_North.fits.gz',\n",
       " '.DS_Store',\n",
       " 'galaxy_DR12v5_CMASS_South.fits',\n",
       " 'README.md',\n",
       " 'galaxy_DR12v5_CMASS_South.fits.gz']"
      ]
     },
     "execution_count": 2,
     "metadata": {},
     "output_type": "execute_result"
    }
   ],
   "source": [
    "os.listdir(\"../data/\")"
   ]
  },
  {
   "cell_type": "markdown",
   "metadata": {},
   "source": [
    "Data exists in two sections, one for each hemisphere"
   ]
  },
  {
   "cell_type": "code",
   "execution_count": 30,
   "metadata": {},
   "outputs": [
    {
     "name": "stdout",
     "output_type": "stream",
     "text": [
      "(618806,)\n",
      "(230831,)\n",
      "(849637,)\n"
     ]
    },
    {
     "data": {
      "text/plain": [
       "XTENSION= 'BINTABLE'           / binary table extension                         \n",
       "BITPIX  =                    8 / 8-bit bytes                                    \n",
       "NAXIS   =                    2 / 2-dimensional binary table                     \n",
       "NAXIS1  =                  362 / width of table in bytes                        \n",
       "NAXIS2  =               618806 / number of rows in table                        \n",
       "PCOUNT  =                    0 / size of special data area                      \n",
       "GCOUNT  =                    1 / one data group (required keyword)              \n",
       "TFIELDS =                   42 / number of fields in each row                   \n",
       "TTYPE1  = 'RA      '           / label for field   1                            \n",
       "TFORM1  = 'D       '           / data format of field: 8-byte DOUBLE            \n",
       "TTYPE2  = 'DEC     '           / label for field   2                            \n",
       "TFORM2  = 'D       '           / data format of field: 8-byte DOUBLE            \n",
       "TTYPE3  = 'RUN     '           / label for field   3                            \n",
       "TFORM3  = 'J       '           / data format of field: 4-byte INTEGER           \n",
       "TTYPE4  = 'RERUN   '           / label for field   4                            \n",
       "TFORM4  = '12A     '           / data format of field: ASCII Character          \n",
       "TTYPE5  = 'CAMCOL  '           / label for field   5                            \n",
       "TFORM5  = 'J       '           / data format of field: 4-byte INTEGER           \n",
       "TTYPE6  = 'FIELD   '           / label for field   6                            \n",
       "TFORM6  = 'J       '           / data format of field: 4-byte INTEGER           \n",
       "TTYPE7  = 'ID      '           / label for field   7                            \n",
       "TFORM7  = 'J       '           / data format of field: 4-byte INTEGER           \n",
       "TTYPE8  = 'ICHUNK  '           / label for field   8                            \n",
       "TFORM8  = 'J       '           / data format of field: 4-byte INTEGER           \n",
       "TTYPE9  = 'IPOLY   '           / label for field   9                            \n",
       "TFORM9  = 'J       '           / data format of field: 4-byte INTEGER           \n",
       "TTYPE10 = 'ISECT   '           / label for field  10                            \n",
       "TFORM10 = 'J       '           / data format of field: 4-byte INTEGER           \n",
       "TTYPE11 = 'FRACPSF '           / label for field  11                            \n",
       "TFORM11 = '5E      '           / data format of field: 4-byte REAL              \n",
       "TTYPE12 = 'EXPFLUX '           / label for field  12                            \n",
       "TFORM12 = '5E      '           / data format of field: 4-byte REAL              \n",
       "TTYPE13 = 'DEVFLUX '           / label for field  13                            \n",
       "TFORM13 = '5E      '           / data format of field: 4-byte REAL              \n",
       "TTYPE14 = 'PSFFLUX '           / label for field  14                            \n",
       "TFORM14 = '5E      '           / data format of field: 4-byte REAL              \n",
       "TTYPE15 = 'MODELFLUX'          / label for field  15                            \n",
       "TFORM15 = '5E      '           / data format of field: 4-byte REAL              \n",
       "TTYPE16 = 'FIBER2FLUX'         / label for field  16                            \n",
       "TFORM16 = '5E      '           / data format of field: 4-byte REAL              \n",
       "TTYPE17 = 'R_DEV   '           / label for field  17                            \n",
       "TFORM17 = '5E      '           / data format of field: 4-byte REAL              \n",
       "TTYPE18 = 'EXTINCTION'         / label for field  18                            \n",
       "TFORM18 = '5E      '           / data format of field: 4-byte REAL              \n",
       "TTYPE19 = 'PSF_FWHM'           / label for field  19                            \n",
       "TFORM19 = '5E      '           / data format of field: 4-byte REAL              \n",
       "TTYPE20 = 'AIRMASS '           / label for field  20                            \n",
       "TFORM20 = 'E       '           / data format of field: 4-byte REAL              \n",
       "TTYPE21 = 'SKYFLUX '           / label for field  21                            \n",
       "TFORM21 = '5E      '           / data format of field: 4-byte REAL              \n",
       "TTYPE22 = 'EB_MINUS_V'         / label for field  22                            \n",
       "TFORM22 = 'E       '           / data format of field: 4-byte REAL              \n",
       "TTYPE23 = 'IMAGE_DEPTH'        / label for field  23                            \n",
       "TFORM23 = '5E      '           / data format of field: 4-byte REAL              \n",
       "TTYPE24 = 'IMATCH  '           / label for field  24                            \n",
       "TFORM24 = 'J       '           / data format of field: 4-byte INTEGER           \n",
       "TTYPE25 = 'Z       '           / label for field  25                            \n",
       "TFORM25 = 'E       '           / data format of field: 4-byte REAL              \n",
       "TTYPE26 = 'WEIGHT_FKP'         / label for field  26                            \n",
       "TFORM26 = 'E       '           / data format of field: 4-byte REAL              \n",
       "TTYPE27 = 'WEIGHT_CP'          / label for field  27                            \n",
       "TFORM27 = 'E       '           / data format of field: 4-byte REAL              \n",
       "TTYPE28 = 'WEIGHT_NOZ'         / label for field  28                            \n",
       "TFORM28 = 'E       '           / data format of field: 4-byte REAL              \n",
       "TTYPE29 = 'WEIGHT_STAR'        / label for field  29                            \n",
       "TFORM29 = 'E       '           / data format of field: 4-byte REAL              \n",
       "TTYPE30 = 'WEIGHT_SEEING'      / label for field  30                            \n",
       "TFORM30 = 'E       '           / data format of field: 4-byte REAL              \n",
       "TTYPE31 = 'WEIGHT_SYSTOT'      / label for field  31                            \n",
       "TFORM31 = 'E       '           / data format of field: 4-byte REAL              \n",
       "TTYPE32 = 'NZ      '           / label for field  32                            \n",
       "TFORM32 = 'E       '           / data format of field: 4-byte REAL              \n",
       "TTYPE33 = 'COMP    '           / label for field  33                            \n",
       "TFORM33 = 'E       '           / data format of field: 4-byte REAL              \n",
       "TTYPE34 = 'PLATE   '           / label for field  34                            \n",
       "TFORM34 = 'J       '           / data format of field: 4-byte INTEGER           \n",
       "TTYPE35 = 'FIBERID '           / label for field  35                            \n",
       "TFORM35 = 'J       '           / data format of field: 4-byte INTEGER           \n",
       "TTYPE36 = 'MJD     '           / label for field  36                            \n",
       "TFORM36 = 'J       '           / data format of field: 4-byte INTEGER           \n",
       "TTYPE37 = 'FINALN  '           / label for field  37                            \n",
       "TFORM37 = 'J       '           / data format of field: 4-byte INTEGER           \n",
       "TTYPE38 = 'TILE    '           / label for field  38                            \n",
       "TFORM38 = '3I      '           / data format of field: 2-byte INTEGER           \n",
       "TTYPE39 = 'SPECTILE'           / label for field  39                            \n",
       "TFORM39 = 'J       '           / data format of field: 4-byte INTEGER           \n",
       "TTYPE40 = 'ICOLLIDED'          / label for field  40                            \n",
       "TFORM40 = 'J       '           / data format of field: 4-byte INTEGER           \n",
       "TTYPE41 = 'INGROUP '           / label for field  41                            \n",
       "TFORM41 = 'J       '           / data format of field: 4-byte INTEGER           \n",
       "TTYPE42 = 'MULTGROUP'          / label for field  42                            \n",
       "TFORM42 = 'J       '           / data format of field: 4-byte INTEGER           "
      ]
     },
     "execution_count": 30,
     "metadata": {},
     "output_type": "execute_result"
    }
   ],
   "source": [
    "with fits.open(\"../data/galaxy_DR12v5_CMASS_North.fits\") as hdul:\n",
    "    thead, tdata = hdul[1].header, hdul[1].data\n",
    "    print(tdata.shape)\n",
    "    \n",
    "with fits.open(\"../data/galaxy_DR12v5_CMASS_South.fits\") as hdul:\n",
    "    tdata = np.append(tdata, hdul[1].data)\n",
    "    print(hdul[1].data.shape)\n",
    "    print(tdata.shape)\n",
    "    \n",
    "thead"
   ]
  },
  {
   "cell_type": "code",
   "execution_count": 31,
   "metadata": {},
   "outputs": [
    {
     "data": {
      "text/plain": [
       "(849637,)"
      ]
     },
     "execution_count": 31,
     "metadata": {},
     "output_type": "execute_result"
    }
   ],
   "source": [
    "tdata.shape"
   ]
  },
  {
   "cell_type": "code",
   "execution_count": 27,
   "metadata": {},
   "outputs": [
    {
     "data": {
      "text/plain": [
       "('RA',\n",
       " 'DEC',\n",
       " 'RUN',\n",
       " 'RERUN',\n",
       " 'CAMCOL',\n",
       " 'FIELD',\n",
       " 'ID',\n",
       " 'ICHUNK',\n",
       " 'IPOLY',\n",
       " 'ISECT',\n",
       " 'FRACPSF',\n",
       " 'EXPFLUX',\n",
       " 'DEVFLUX',\n",
       " 'PSFFLUX',\n",
       " 'MODELFLUX',\n",
       " 'FIBER2FLUX',\n",
       " 'R_DEV',\n",
       " 'EXTINCTION',\n",
       " 'PSF_FWHM',\n",
       " 'AIRMASS',\n",
       " 'SKYFLUX',\n",
       " 'EB_MINUS_V',\n",
       " 'IMAGE_DEPTH',\n",
       " 'IMATCH',\n",
       " 'Z',\n",
       " 'WEIGHT_FKP',\n",
       " 'WEIGHT_CP',\n",
       " 'WEIGHT_NOZ',\n",
       " 'WEIGHT_STAR',\n",
       " 'WEIGHT_SEEING',\n",
       " 'WEIGHT_SYSTOT',\n",
       " 'NZ',\n",
       " 'COMP',\n",
       " 'PLATE',\n",
       " 'FIBERID',\n",
       " 'MJD',\n",
       " 'FINALN',\n",
       " 'TILE',\n",
       " 'SPECTILE',\n",
       " 'ICOLLIDED',\n",
       " 'INGROUP',\n",
       " 'MULTGROUP')"
      ]
     },
     "execution_count": 27,
     "metadata": {},
     "output_type": "execute_result"
    }
   ],
   "source": [
    "tdata.dtype.names"
   ]
  },
  {
   "cell_type": "markdown",
   "metadata": {},
   "source": [
    "Plot LOWZ data too for comparison."
   ]
  },
  {
   "cell_type": "code",
   "execution_count": 32,
   "metadata": {},
   "outputs": [
    {
     "name": "stdout",
     "output_type": "stream",
     "text": [
      "(317780,)\n",
      "(145264,)\n",
      "(463044,)\n"
     ]
    }
   ],
   "source": [
    "with fits.open(\"../data/galaxy_DR12v5_LOWZ_North.fits\") as hdul:\n",
    "    lowzdata = hdul[1].data\n",
    "    print(lowzdata.shape)\n",
    "    \n",
    "with fits.open(\"../data/galaxy_DR12v5_LOWZ_South.fits\") as hdul:\n",
    "    lowzdata = np.append(lowzdata, hdul[1].data)\n",
    "    print(hdul[1].data.shape)\n",
    "    print(lowzdata.shape)"
   ]
  },
  {
   "cell_type": "code",
   "execution_count": 35,
   "metadata": {},
   "outputs": [
    {
     "data": {
      "image/png": "[encoded data removed]",
      "text/plain": [
       "<Figure size 640x480 with 1 Axes>"
      ]
     },
     "metadata": {},
     "output_type": "display_data"
    }
   ],
   "source": [
    "plt.figure()\n",
    "plt.hist(tdata['Z'], bins=100, histtype='step', label='CMASS')\n",
    "plt.hist(lowzdata['Z'], bins=100, histtype='step', label='LOWZ')\n",
    "plt.title('Redshift distribution of BOSS galaxies')\n",
    "plt.xlabel('Redshift')\n",
    "plt.ylabel('Number of galaxies')\n",
    "plt.legend()\n",
    "plt.grid()\n",
    "plt.show()\n",
    "plt.close()"
   ]
  },
  {
   "cell_type": "code",
   "execution_count": null,
   "metadata": {},
   "outputs": [],
   "source": []
  }
 ],
 "metadata": {
  "kernelspec": {
   "display_name": "cosmo",
   "language": "python",
   "name": "python3"
  },
  "language_info": {
   "codemirror_mode": {
    "name": "ipython",
    "version": 3
   },
   "file_extension": ".py",
   "mimetype": "text/x-python",
   "name": "python",
   "nbconvert_exporter": "python",
   "pygments_lexer": "ipython3",
   "version": "3.9.18"
  }
 },
 "nbformat": 4,
 "nbformat_minor": 2
}
