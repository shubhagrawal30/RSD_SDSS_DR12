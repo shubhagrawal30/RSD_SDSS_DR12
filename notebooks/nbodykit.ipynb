{
 "cells": [
  {
   "cell_type": "code",
   "execution_count": 1,
   "metadata": {},
   "outputs": [
    {
     "ename": "ModuleNotFoundError",
     "evalue": "No module named 'nbodykit'",
     "output_type": "error",
     "traceback": [
      "\u001b[0;31m---------------------------------------------------------------------------\u001b[0m",
      "\u001b[0;31mModuleNotFoundError\u001b[0m                       Traceback (most recent call last)",
      "\u001b[1;32m/Users/shubh/Library/CloudStorage/OneDrive-PennO365/Classes/Topics in Cosmology/RSD_SDSS_DR12/notebooks/nbodykit.ipynb Cell 1\u001b[0m line \u001b[0;36m1\n\u001b[0;32m----> <a href='vscode-notebook-cell:/Users/shubh/Library/CloudStorage/OneDrive-PennO365/Classes/Topics%20in%20Cosmology/RSD_SDSS_DR12/notebooks/nbodykit.ipynb#W0sZmlsZQ%3D%3D?line=0'>1</a>\u001b[0m \u001b[39mfrom\u001b[39;00m \u001b[39mnbodykit\u001b[39;00m\u001b[39m.\u001b[39;00m\u001b[39mlab\u001b[39;00m \u001b[39mimport\u001b[39;00m \u001b[39m*\u001b[39m\n\u001b[1;32m      <a href='vscode-notebook-cell:/Users/shubh/Library/CloudStorage/OneDrive-PennO365/Classes/Topics%20in%20Cosmology/RSD_SDSS_DR12/notebooks/nbodykit.ipynb#W0sZmlsZQ%3D%3D?line=1'>2</a>\u001b[0m \u001b[39mfrom\u001b[39;00m \u001b[39mnbodykit\u001b[39;00m \u001b[39mimport\u001b[39;00m setup_logging, style\n\u001b[1;32m      <a href='vscode-notebook-cell:/Users/shubh/Library/CloudStorage/OneDrive-PennO365/Classes/Topics%20in%20Cosmology/RSD_SDSS_DR12/notebooks/nbodykit.ipynb#W0sZmlsZQ%3D%3D?line=3'>4</a>\u001b[0m \u001b[39mfrom\u001b[39;00m \u001b[39mscipy\u001b[39;00m\u001b[39m.\u001b[39;00m\u001b[39minterpolate\u001b[39;00m \u001b[39mimport\u001b[39;00m InterpolatedUnivariateSpline\n",
      "\u001b[0;31mModuleNotFoundError\u001b[0m: No module named 'nbodykit'"
     ]
    }
   ],
   "source": [
    "from nbodykit.lab import *\n",
    "from nbodykit import setup_logging, style\n",
    "\n",
    "from scipy.interpolate import InterpolatedUnivariateSpline\n",
    "import matplotlib.pyplot as plt\n",
    "plt.style.use(style.notebook)\n",
    "\n",
    "setup_logging()"
   ]
  },
  {
   "cell_type": "code",
   "execution_count": null,
   "metadata": {},
   "outputs": [],
   "source": []
  }
 ],
 "metadata": {
  "kernelspec": {
   "display_name": "cosmo",
   "language": "python",
   "name": "python3"
  },
  "language_info": {
   "codemirror_mode": {
    "name": "ipython",
    "version": 3
   },
   "file_extension": ".py",
   "mimetype": "text/x-python",
   "name": "python",
   "nbconvert_exporter": "python",
   "pygments_lexer": "ipython3",
   "version": "3.9.18"
  }
 },
 "nbformat": 4,
 "nbformat_minor": 2
}
